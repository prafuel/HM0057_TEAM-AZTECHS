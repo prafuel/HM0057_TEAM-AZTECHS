{
 "cells": [
  {
   "cell_type": "code",
   "execution_count": 1,
   "metadata": {},
   "outputs": [],
   "source": [
    "import pandas as pd"
   ]
  },
  {
   "cell_type": "code",
   "execution_count": 18,
   "metadata": {},
   "outputs": [
    {
     "name": "stdout",
     "output_type": "stream",
     "text": [
      "     rank      name     contact    position  years_exp\n",
      "194     1   Motlagh  1009030917  technician          4\n",
      "117     2     Goyal  6787601081  technician          5\n",
      "43      3      Chan  1864106608  technician          4\n",
      "64      4       Dee  6150492115  technician          4\n",
      "69      5  Desimone  4704878143  technician          2\n"
     ]
    }
   ],
   "source": [
    "import numpy as np\n",
    "import spacy\n",
    "from sklearn.metrics.pairwise import cosine_similarity\n",
    "from sys import stderr\n",
    "import pandas as pd\n",
    "df = pd.read_csv('main_hr.csv')\n",
    "\n",
    "try:\n",
    "    nlp = spacy.load('en_core_web_sm')\n",
    "except OSError:\n",
    "    print('Downloading language model for the spaCy POS tagger\\n'\n",
    "        \"(don't worry, this will only happen once)\", file=stderr)\n",
    "    from spacy.cli import download\n",
    "    download('en')\n",
    "    nlp = spacy.load('enen_core_web_sm')\n",
    "\n",
    "# Load spaCy's English model with word vectors\n",
    "# nlp = spacy.load(\"en\")\n",
    "\n",
    "\n",
    "def calculate_word_vectors(text):\n",
    "    doc = nlp(text)\n",
    "    # Average the word vectors for all tokens in the document\n",
    "    return np.mean([token.vector for token in doc if not token.is_stop and not token.is_punct], axis=0)\n",
    "\n",
    "\n",
    "user_prompt = \"i want info related web developement and integrating into data science\"\n",
    "user_prompt_doc = nlp(user_prompt)\n",
    "\n",
    "# Concatenate 'position' and 'tags' columns\n",
    "features = df[['name', 'position', 'tags','contact','years_exp']].copy()\n",
    "features['combined_text'] = features['name'] + ' ' + features['position'] + ' ' + features['tags']\n",
    "\n",
    "# Calculate word vectors for combined text\n",
    "features['word_vectors'] = features['combined_text'].apply(\n",
    "    lambda x: calculate_word_vectors(str(x)))\n",
    "\n",
    "# Calculate cosine similarity between user prompt and each row\n",
    "features['cosine_similarity'] = features['word_vectors'].apply(\n",
    "    lambda x: cosine_similarity([x], [user_prompt_doc.vector])[0][0])\n",
    "\n",
    "# Sort the DataFrame by cosine similarity scores\n",
    "features_sorted = features.sort_values(by='cosine_similarity', ascending=False)\n",
    "\n",
    "# Add a 'rank' column to indicate the rank of each recommendation\n",
    "features_sorted['rank'] = range(1, len(features_sorted) + 1)\n",
    "\n",
    "# Recommend top 5 columns\n",
    "top_5_recommendations = features_sorted.head(5)\n",
    "\n",
    "# Display top 5 recommendations with ranks\n",
    "print(top_5_recommendations[['rank','name', 'contact','position','years_exp']])\n"
   ]
  },
  {
   "cell_type": "code",
   "execution_count": 39,
   "metadata": {},
   "outputs": [],
   "source": [
    "top_5_recommendations.reset_index(drop=True, inplace=True)"
   ]
  },
  {
   "cell_type": "code",
   "execution_count": 40,
   "metadata": {},
   "outputs": [
    {
     "data": {
      "text/html": [
       "<div>\n",
       "<style scoped>\n",
       "    .dataframe tbody tr th:only-of-type {\n",
       "        vertical-align: middle;\n",
       "    }\n",
       "\n",
       "    .dataframe tbody tr th {\n",
       "        vertical-align: top;\n",
       "    }\n",
       "\n",
       "    .dataframe thead th {\n",
       "        text-align: right;\n",
       "    }\n",
       "</style>\n",
       "<table border=\"1\" class=\"dataframe\">\n",
       "  <thead>\n",
       "    <tr style=\"text-align: right;\">\n",
       "      <th></th>\n",
       "      <th>name</th>\n",
       "      <th>position</th>\n",
       "      <th>tags</th>\n",
       "      <th>contact</th>\n",
       "      <th>years_exp</th>\n",
       "      <th>combined_text</th>\n",
       "      <th>word_vectors</th>\n",
       "      <th>cosine_similarity</th>\n",
       "      <th>rank</th>\n",
       "    </tr>\n",
       "  </thead>\n",
       "  <tbody>\n",
       "    <tr>\n",
       "      <th>0</th>\n",
       "      <td>Motlagh</td>\n",
       "      <td>technician</td>\n",
       "      <td>technic support troubleshoot instal repair mai...</td>\n",
       "      <td>1009030917</td>\n",
       "      <td>4</td>\n",
       "      <td>Motlagh technician technic support troubleshoo...</td>\n",
       "      <td>[-0.14054212, -0.6373889, -0.057280555, 0.1045...</td>\n",
       "      <td>0.580506</td>\n",
       "      <td>1</td>\n",
       "    </tr>\n",
       "    <tr>\n",
       "      <th>1</th>\n",
       "      <td>Goyal</td>\n",
       "      <td>technician</td>\n",
       "      <td>technic support troubleshoot instal repair mai...</td>\n",
       "      <td>6787601081</td>\n",
       "      <td>5</td>\n",
       "      <td>Goyal technician technic support troubleshoot ...</td>\n",
       "      <td>[-0.048434533, -0.62331563, 0.028899716, 0.114...</td>\n",
       "      <td>0.579648</td>\n",
       "      <td>2</td>\n",
       "    </tr>\n",
       "    <tr>\n",
       "      <th>2</th>\n",
       "      <td>Chan</td>\n",
       "      <td>technician</td>\n",
       "      <td>technic support troubleshoot instal repair mai...</td>\n",
       "      <td>1864106608</td>\n",
       "      <td>4</td>\n",
       "      <td>Chan technician technic support troubleshoot i...</td>\n",
       "      <td>[-0.1550504, -0.6147052, 0.0038134933, 0.06908...</td>\n",
       "      <td>0.569325</td>\n",
       "      <td>3</td>\n",
       "    </tr>\n",
       "    <tr>\n",
       "      <th>3</th>\n",
       "      <td>Dee</td>\n",
       "      <td>technician</td>\n",
       "      <td>technic support troubleshoot instal repair mai...</td>\n",
       "      <td>6150492115</td>\n",
       "      <td>4</td>\n",
       "      <td>Dee technician technic support troubleshoot in...</td>\n",
       "      <td>[-0.13142012, -0.57194346, -0.017912209, 0.049...</td>\n",
       "      <td>0.564049</td>\n",
       "      <td>4</td>\n",
       "    </tr>\n",
       "    <tr>\n",
       "      <th>4</th>\n",
       "      <td>Desimone</td>\n",
       "      <td>technician</td>\n",
       "      <td>technic support troubleshoot instal repair mai...</td>\n",
       "      <td>4704878143</td>\n",
       "      <td>2</td>\n",
       "      <td>Desimone technician technic support troublesho...</td>\n",
       "      <td>[-0.13583252, -0.590025, -0.0015942322, 0.0625...</td>\n",
       "      <td>0.563958</td>\n",
       "      <td>5</td>\n",
       "    </tr>\n",
       "  </tbody>\n",
       "</table>\n",
       "</div>"
      ],
      "text/plain": [
       "       name    position                                               tags  \\\n",
       "0   Motlagh  technician  technic support troubleshoot instal repair mai...   \n",
       "1     Goyal  technician  technic support troubleshoot instal repair mai...   \n",
       "2      Chan  technician  technic support troubleshoot instal repair mai...   \n",
       "3       Dee  technician  technic support troubleshoot instal repair mai...   \n",
       "4  Desimone  technician  technic support troubleshoot instal repair mai...   \n",
       "\n",
       "      contact  years_exp                                      combined_text  \\\n",
       "0  1009030917          4  Motlagh technician technic support troubleshoo...   \n",
       "1  6787601081          5  Goyal technician technic support troubleshoot ...   \n",
       "2  1864106608          4  Chan technician technic support troubleshoot i...   \n",
       "3  6150492115          4  Dee technician technic support troubleshoot in...   \n",
       "4  4704878143          2  Desimone technician technic support troublesho...   \n",
       "\n",
       "                                        word_vectors  cosine_similarity  rank  \n",
       "0  [-0.14054212, -0.6373889, -0.057280555, 0.1045...           0.580506     1  \n",
       "1  [-0.048434533, -0.62331563, 0.028899716, 0.114...           0.579648     2  \n",
       "2  [-0.1550504, -0.6147052, 0.0038134933, 0.06908...           0.569325     3  \n",
       "3  [-0.13142012, -0.57194346, -0.017912209, 0.049...           0.564049     4  \n",
       "4  [-0.13583252, -0.590025, -0.0015942322, 0.0625...           0.563958     5  "
      ]
     },
     "execution_count": 40,
     "metadata": {},
     "output_type": "execute_result"
    }
   ],
   "source": [
    "top_5_recommendations"
   ]
  },
  {
   "cell_type": "code",
   "execution_count": 48,
   "metadata": {},
   "outputs": [],
   "source": [
    "send_data = []\n",
    "\n",
    "for i in range(0,5):\n",
    "    send_data.append(\n",
    "        {\n",
    "            \"name\" : top_5_recommendations['name'][i],\n",
    "            \"position\" : top_5_recommendations['position'][i],\n",
    "            \"contact\" : top_5_recommendations['contact'][i],\n",
    "            \"yoe\" : top_5_recommendations['years_exp'][i]\n",
    "        }\n",
    "    )"
   ]
  },
  {
   "cell_type": "code",
   "execution_count": 51,
   "metadata": {},
   "outputs": [
    {
     "data": {
      "text/plain": [
       "[{'name': 'Motlagh',\n",
       "  'position': 'technician',\n",
       "  'contact': 1009030917,\n",
       "  'yoe': 4},\n",
       " {'name': 'Goyal', 'position': 'technician', 'contact': 6787601081, 'yoe': 5},\n",
       " {'name': 'Chan', 'position': 'technician', 'contact': 1864106608, 'yoe': 4},\n",
       " {'name': 'Dee', 'position': 'technician', 'contact': 6150492115, 'yoe': 4},\n",
       " {'name': 'Desimone',\n",
       "  'position': 'technician',\n",
       "  'contact': 4704878143,\n",
       "  'yoe': 2}]"
      ]
     },
     "execution_count": 51,
     "metadata": {},
     "output_type": "execute_result"
    }
   ],
   "source": [
    "send_data"
   ]
  },
  {
   "cell_type": "code",
   "execution_count": null,
   "metadata": {},
   "outputs": [],
   "source": []
  }
 ],
 "metadata": {
  "kernelspec": {
   "display_name": "Python 3",
   "language": "python",
   "name": "python3"
  },
  "language_info": {
   "codemirror_mode": {
    "name": "ipython",
    "version": 3
   },
   "file_extension": ".py",
   "mimetype": "text/x-python",
   "name": "python",
   "nbconvert_exporter": "python",
   "pygments_lexer": "ipython3",
   "version": "3.10.12"
  }
 },
 "nbformat": 4,
 "nbformat_minor": 2
}
